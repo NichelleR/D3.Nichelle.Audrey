{
 "cells": [
  {
   "cell_type": "code",
   "execution_count": 19,
   "metadata": {},
   "outputs": [
    {
     "name": "stdout",
     "output_type": "stream",
     "text": [
      "DNA Sequence:ATG\n",
      "AUG\n",
      "None\n"
     ]
    }
   ],
   "source": [
    "from itertools import groupby\n",
    "\n",
    "sequence = input(\"DNA Sequence:\")\n",
    "\n",
    "def transcribe(sequence):\n",
    "    return sequence.replace('T', 'U')\n",
    "\n",
    "def translate_rna(sequence):\n",
    "    codon2aa = {\"AAA\":\"K\", \"AAC\":\"N\", \"AAG\":\"K\", \"AAU\":\"N\", \n",
    "                \"ACA\":\"T\", \"ACC\":\"T\", \"ACG\":\"T\", \"ACU\":\"T\", \n",
    "                \"AGA\":\"R\", \"AGC\":\"S\", \"AGG\":\"R\", \"AGU\":\"S\", \n",
    "                \"AUA\":\"I\", \"AUC\":\"I\", \"AUG\":\"M\", \"AUU\":\"I\", \n",
    "\n",
    "                \"CAA\":\"Q\", \"CAC\":\"H\", \"CAG\":\"Q\", \"CAU\":\"H\", \n",
    "                \"CCA\":\"P\", \"CCC\":\"P\", \"CCG\":\"P\", \"CCU\":\"P\", \n",
    "                \"CGA\":\"R\", \"CGC\":\"R\", \"CGG\":\"R\", \"CGU\":\"R\", \n",
    "                \"CUA\":\"L\", \"CUC\":\"L\", \"CUG\":\"L\", \"CUU\":\"L\", \n",
    "\n",
    "                \"GAA\":\"E\", \"GAC\":\"D\", \"GAG\":\"E\", \"GAU\":\"D\", \n",
    "                \"GCA\":\"A\", \"GCC\":\"A\", \"GCG\":\"A\", \"GCU\":\"A\", \n",
    "                \"GGA\":\"G\", \"GGC\":\"G\", \"GGG\":\"G\", \"GGU\":\"G\", \n",
    "                \"GUA\":\"V\", \"GUC\":\"V\", \"GUG\":\"V\", \"GUU\":\"V\", \n",
    "\n",
    "                \"UAA\":\"_\", \"UAC\":\"Y\", \"UAG\":\"_\", \"UAU\":\"T\", \n",
    "                \"UCA\":\"S\", \"UCC\":\"S\", \"UCG\":\"S\", \"UCU\":\"S\", \n",
    "                \"UGA\":\"_\", \"UGC\":\"C\", \"UGG\":\"W\", \"UGU\":\"C\", \n",
    "                \"UUA\":\"L\", \"UUC\":\"F\", \"UUG\":\"L\", \"UUU\":\"F\"}\n",
    "\n",
    "#     l = [codon2aa.get(s[n:n+3], 'X') for n in range(0, len(s), 3)]\n",
    "#     return \"\".join(l)\n",
    "\n",
    "# # with open('dna.fasta.py') as f_in:\n",
    "# #     for line in f_in.readlines():\n",
    "# #         if line[0] == '>':\n",
    "# #             seq += (line.strip('>') + '     ')      \n",
    "# #         else:\n",
    "# #             rna = transcribe(line)\n",
    "# #             protein = translate_dna(rna)\n",
    "# #             seq += (protein)\n",
    "\n",
    "print(transcribe(sequence))\n",
    "print(translate_rna(transcribe(sequence)))"
   ]
  }
 ],
 "metadata": {},
 "nbformat": 4,
 "nbformat_minor": 2
}
